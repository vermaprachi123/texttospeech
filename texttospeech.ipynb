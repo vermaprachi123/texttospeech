{
  "nbformat": 4,
  "nbformat_minor": 0,
  "metadata": {
    "colab": {
      "provenance": []
    },
    "kernelspec": {
      "name": "python3",
      "display_name": "Python 3"
    },
    "language_info": {
      "name": "python"
    }
  },
  "cells": [
    {
      "cell_type": "code",
      "execution_count": null,
      "metadata": {
        "id": "n17rItIn-FIF"
      },
      "outputs": [],
      "source": []
    },
    {
      "cell_type": "code",
      "source": [
        "from tkinter import *\n",
        "from tkinter.messagebox import showinfo\n",
        "from gtts import gTTS\n",
        "import speech_recognition as sr\n",
        "import os\n",
        "\n",
        "mainwindow= Tk()\n",
        "mainwindow.title( 'DataF1air Text-To-Speech and Speech-To-Text Converter')\n",
        "mainwindow. geometry( ' 500x500 ' )\n",
        "mainwindow. resizable (0, 0)\n",
        "mainwindow. configure (bg= 'yellow ' )\n",
        "\n",
        "def say(textl):\n",
        "  language ='en'\n",
        "  speech = gTTS(text = textl, lang = language, slow = False)\n",
        "  speech. save (\"text. mp3\")\n",
        "  os. text.mp3\")\n",
        "\n",
        "def recordvoice():\n",
        "  while True:\n",
        "    r = sr.Recognizer()\n",
        "    with sr.Microphone() as source:\n",
        "      audio=r. listen( source)\n",
        "      try :\n",
        "        textl = r. recognize_google ( audio, - IN \" )\n",
        "      except :\n",
        "        pass\n",
        "      return textl"
      ],
      "metadata": {
        "id": "Dv2wEZ89-NmQ"
      },
      "execution_count": null,
      "outputs": []
    },
    {
      "cell_type": "code",
      "source": [
        "def TextToSpeech():\n",
        "  texttospeechwindow = Toplevel (mainwindow)\n",
        "  texttospeechwindow.title( 'Text -to-speech Converter by DataF1air' )\n",
        "  texttospeechwindow. geomet ry ( \" søøxsøø\" )\n",
        "  texttospeechwindow. configure ( bg= ' Blue ' )\n",
        "\n",
        "  Label (texttospeechwindow, text= 'Text-to-Speech Converter by DataF1air' , \"Times New Roman\", 15),\n",
        "\n",
        "  text = Text(texttospeechwindow, height=5, width=30, font—12)\n",
        "  text. place(x=7, y=60)\n",
        "\n",
        "  speakbutton = Button(texttospeechwindow, text= ' listen', bg= 'coral', command=lambda: say(str(text.get(l.0, END))))\n",
        "  speakbutton.place(x=140,y=200)\n",
        "\n",
        "def SpeechToText():\n",
        "  speechtotextwindow = Toplevel(mainwindow)\n",
        "  speechtotextwindow.title( 'Speech-to-Text Converter by DataFIair')\n",
        "  speechtotextwindow. geometry ( \" 500<500\" )\n",
        "  speechtotextwindow. configure (bg= ' pink ' )\n",
        "\n",
        "  Label (speechtotextwindow, text='Speech-to-Text Converter by DataF1air' , font=(\"Comic Sans MS\"15), bg = 'IndianRed' ).place(x=50)\n",
        "\n",
        "  text = Text(speechtotextwindow, font = 12, height = 3 , width = 30)\n",
        "  text .place(x= 7,y=100)\n",
        "\n",
        "  recordbutton = Button (speechtotextwindow, text= 'Record' , bg= 'Sienna' ,command—lambda :text. insert (END,recordvoice()))\n",
        "  recordbutton.place(x=140, y=50)\n",
        "\n",
        "\n",
        "Label (mainwindow, text= 'DataF1air Text-To-Soeech and Speech-To-Text Converter' ,font = ('Times New Roman ' ,16),bg = ' red ',wrap=True, wraplength=450) place(x=25,y=0)\n",
        "\n",
        "texttosoeechbutton = Button (mainwindow,text='Text-To-Speech Conversion' ,font=( 'Times New Roman' ,16), bg='Purp1e' ,command=TextToSpeech)\n",
        "texttospeechbutton.place(x=100, y=150)\n",
        "\n",
        "speechtotextbutton = Button (mainwindow,text='Text-To-Speech Conversion' ,font=( 'Times New Roman' ,16), bg='Purp1e' ,command=TextToSpeech)\n",
        "speechtotextbutton.place(x=100, y=150)\n",
        "\n",
        "mainwindow.update ( )\n",
        "mainwindow.mainloop ( )\n"
      ],
      "metadata": {
        "id": "3Eh0uQK_-YEo"
      },
      "execution_count": null,
      "outputs": []
    }
  ]
}